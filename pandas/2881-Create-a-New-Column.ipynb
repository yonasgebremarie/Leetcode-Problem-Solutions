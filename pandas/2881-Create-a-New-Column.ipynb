{
 "cells": [
  {
   "cell_type": "code",
   "execution_count": 1,
   "id": "c5acfd10",
   "metadata": {},
   "outputs": [],
   "source": [
    "import pandas as pd\n",
    "\n",
    "def createBonusColumn(employees: pd.DataFrame) -> pd.DataFrame:\n",
    "    employees[\"bonus\"] = employees[\"salary\"] * 2\n",
    "    return employees\n",
    "    "
   ]
  },
  {
   "cell_type": "code",
   "execution_count": 2,
   "id": "18b782e0",
   "metadata": {},
   "outputs": [
    {
     "name": "stdout",
     "output_type": "stream",
     "text": [
      "   employee_id  salary   bonus\n",
      "0            1   50000  100000\n",
      "1            2   60000  120000\n",
      "2            3   55000  110000\n",
      "3            4   70000  140000\n",
      "4            5   65000  130000\n"
     ]
    }
   ],
   "source": [
    "# Example usage\n",
    "data = {\n",
    "    'employee_id': [1, 2, 3, 4, 5],\n",
    "    'salary': [50000, 60000, 55000, 70000, 65000]\n",
    "}\n",
    "employees_df = pd.DataFrame(data)\n",
    "print(createBonusColumn(employees_df))"
   ]
  },
  {
   "cell_type": "code",
   "execution_count": null,
   "id": "0d5ea7a6",
   "metadata": {},
   "outputs": [],
   "source": []
  }
 ],
 "metadata": {
  "kernelspec": {
   "display_name": "base",
   "language": "python",
   "name": "python3"
  },
  "language_info": {
   "codemirror_mode": {
    "name": "ipython",
    "version": 3
   },
   "file_extension": ".py",
   "mimetype": "text/x-python",
   "name": "python",
   "nbconvert_exporter": "python",
   "pygments_lexer": "ipython3",
   "version": "3.12.11"
  }
 },
 "nbformat": 4,
 "nbformat_minor": 5
}
