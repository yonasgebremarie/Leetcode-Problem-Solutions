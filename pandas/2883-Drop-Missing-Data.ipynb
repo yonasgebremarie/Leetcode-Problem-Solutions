{
 "cells": [
  {
   "cell_type": "code",
   "execution_count": 1,
   "id": "97deb0e2",
   "metadata": {},
   "outputs": [],
   "source": [
    "import pandas as pd\n",
    "\n",
    "def dropMissingData(students: pd.DataFrame) -> pd.DataFrame:\n",
    "    return students.dropna(subset=[\"name\"])"
   ]
  },
  {
   "cell_type": "code",
   "execution_count": 4,
   "id": "76976f3a",
   "metadata": {},
   "outputs": [
    {
     "name": "stdout",
     "output_type": "stream",
     "text": [
      "   student_id   name  age grade\n",
      "0         101  Alice   20     A\n",
      "1         102    Bob   21     B\n"
     ]
    }
   ],
   "source": [
    "# Example usage\n",
    "data = {\n",
    "    'student_id': [101, 102, 103],\n",
    "    'name': ['Alice', 'Bob', None],\n",
    "    'age': [20, 21, 22],\n",
    "    'grade': ['A', 'B', 'C']\n",
    "}\n",
    "\n",
    "students_df = pd.DataFrame(data)\n",
    "print(dropMissingData(students_df))"
   ]
  },
  {
   "cell_type": "markdown",
   "id": "86acc381",
   "metadata": {},
   "source": []
  }
 ],
 "metadata": {
  "kernelspec": {
   "display_name": "base",
   "language": "python",
   "name": "python3"
  },
  "language_info": {
   "codemirror_mode": {
    "name": "ipython",
    "version": 3
   },
   "file_extension": ".py",
   "mimetype": "text/x-python",
   "name": "python",
   "nbconvert_exporter": "python",
   "pygments_lexer": "ipython3",
   "version": "3.12.11"
  }
 },
 "nbformat": 4,
 "nbformat_minor": 5
}
