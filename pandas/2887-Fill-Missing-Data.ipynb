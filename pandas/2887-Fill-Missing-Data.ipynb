{
 "cells": [
  {
   "cell_type": "code",
   "execution_count": 1,
   "id": "a9e1484e",
   "metadata": {},
   "outputs": [],
   "source": [
    "import pandas as pd\n",
    "\n",
    "def fillMissingValues(products: pd.DataFrame) -> pd.DataFrame:\n",
    "    products[\"quantity\"] = products[\"quantity\"].fillna(0)\n",
    "    return products\n",
    "    "
   ]
  },
  {
   "cell_type": "code",
   "execution_count": 2,
   "id": "717d7c10",
   "metadata": {},
   "outputs": [
    {
     "name": "stdout",
     "output_type": "stream",
     "text": [
      "   product_id product_name  quantity\n",
      "0           1            A      10.0\n",
      "1           2            B       0.0\n",
      "2           3            C       5.0\n",
      "3           4            D       0.0\n",
      "4           5            E       8.0\n"
     ]
    }
   ],
   "source": [
    "# Example usage\n",
    "data = {\n",
    "    'product_id': [1, 2, 3, 4, 5],\n",
    "    'product_name': ['A', 'B', 'C', 'D', 'E'],\n",
    "    'quantity': [10, None, 5, None, 8]\n",
    "}\n",
    "\n",
    "products_df = pd.DataFrame(data)\n",
    "print(fillMissingValues(products_df))"
   ]
  },
  {
   "cell_type": "code",
   "execution_count": null,
   "id": "9b1e5543",
   "metadata": {},
   "outputs": [],
   "source": []
  }
 ],
 "metadata": {
  "kernelspec": {
   "display_name": "base",
   "language": "python",
   "name": "python3"
  },
  "language_info": {
   "codemirror_mode": {
    "name": "ipython",
    "version": 3
   },
   "file_extension": ".py",
   "mimetype": "text/x-python",
   "name": "python",
   "nbconvert_exporter": "python",
   "pygments_lexer": "ipython3",
   "version": "3.12.11"
  }
 },
 "nbformat": 4,
 "nbformat_minor": 5
}
