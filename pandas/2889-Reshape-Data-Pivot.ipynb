{
 "cells": [
  {
   "cell_type": "code",
   "execution_count": 1,
   "id": "ea680f56",
   "metadata": {},
   "outputs": [],
   "source": [
    "import pandas as pd\n",
    "\n",
    "def pivotTable(weather: pd.DataFrame) -> pd.DataFrame:\n",
    "    return weather.pivot(\n",
    "        index = \"month\",\n",
    "        columns = \"city\",\n",
    "        values = \"temperature\"\n",
    "    )\n",
    "    "
   ]
  },
  {
   "cell_type": "code",
   "execution_count": 2,
   "id": "c4034440",
   "metadata": {},
   "outputs": [
    {
     "name": "stdout",
     "output_type": "stream",
     "text": [
      "city      ElPaso  Jacksonville\n",
      "month                         \n",
      "April          2             5\n",
      "February       6            23\n",
      "January       20            13\n",
      "March         26            38\n",
      "May           43            34\n"
     ]
    }
   ],
   "source": [
    "\"\"\" \n",
    "Example 1:\n",
    "Input:\n",
    "+--------------+----------+-------------+\n",
    "| city         | month    | temperature |\n",
    "+--------------+----------+-------------+\n",
    "| Jacksonville | January  | 13          |\n",
    "| Jacksonville | February | 23          |\n",
    "| Jacksonville | March    | 38          |\n",
    "| Jacksonville | April    | 5           |\n",
    "| Jacksonville | May      | 34          |\n",
    "| ElPaso       | January  | 20          |\n",
    "| ElPaso       | February | 6           |\n",
    "| ElPaso       | March    | 26          |\n",
    "| ElPaso       | April    | 2           |\n",
    "| ElPaso       | May      | 43          |\n",
    "+--------------+----------+-------------+\n",
    "\"\"\"\n",
    "\n",
    "# Example usage\n",
    "data = {\n",
    "    'city': ['Jacksonville', 'Jacksonville', 'Jacksonville', 'Jacksonville', 'Jacksonville',\n",
    "             'ElPaso', 'ElPaso', 'ElPaso', 'ElPaso', 'ElPaso'],\n",
    "    'month': ['January', 'February', 'March', 'April', 'May',\n",
    "              'January', 'February', 'March', 'April', 'May'],\n",
    "    'temperature': [13, 23, 38, 5, 34, 20, 6, 26, 2, 43]\n",
    "}\n",
    "\n",
    "weather_df = pd.DataFrame(data)\n",
    "print(pivotTable(weather_df))"
   ]
  }
 ],
 "metadata": {
  "kernelspec": {
   "display_name": "base",
   "language": "python",
   "name": "python3"
  },
  "language_info": {
   "codemirror_mode": {
    "name": "ipython",
    "version": 3
   },
   "file_extension": ".py",
   "mimetype": "text/x-python",
   "name": "python",
   "nbconvert_exporter": "python",
   "pygments_lexer": "ipython3",
   "version": "3.12.11"
  }
 },
 "nbformat": 4,
 "nbformat_minor": 5
}
