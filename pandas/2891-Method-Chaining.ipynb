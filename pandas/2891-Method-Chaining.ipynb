{
 "cells": [
  {
   "cell_type": "code",
   "execution_count": 1,
   "id": "aec4e31c",
   "metadata": {},
   "outputs": [],
   "source": [
    "import pandas as pd\n",
    "\n",
    "def findHeavyAnimals(animals: pd.DataFrame) -> pd.DataFrame:\n",
    "    results = animals[animals[\"weight\"] > 100].sort_values(by=\"weight\", ascending = False)\n",
    "    \n",
    "    return results[[\"name\"]]"
   ]
  },
  {
   "cell_type": "code",
   "execution_count": 2,
   "id": "2606f7e1",
   "metadata": {},
   "outputs": [
    {
     "name": "stdout",
     "output_type": "stream",
     "text": [
      "       name\n",
      "0   Tatiana\n",
      "3  Jonathan\n",
      "5     Tommy\n",
      "2      Alex\n"
     ]
    }
   ],
   "source": [
    "\"\"\" \n",
    "Example 1:\n",
    "\n",
    "Input: \n",
    "DataFrame animals:\n",
    "+----------+---------+-----+--------+\n",
    "| name     | species | age | weight |\n",
    "+----------+---------+-----+--------+\n",
    "| Tatiana  | Snake   | 98  | 464    |\n",
    "| Khaled   | Giraffe | 50  | 41     |\n",
    "| Alex     | Leopard | 6   | 328    |\n",
    "| Jonathan | Monkey  | 45  | 463    |\n",
    "| Stefan   | Bear    | 100 | 50     |\n",
    "| Tommy    | Panda   | 26  | 349    |\n",
    "+----------+---------+-----+--------+\n",
    "Output: \n",
    "+----------+\n",
    "| name     |\n",
    "+----------+\n",
    "| Tatiana  |\n",
    "| Jonathan |\n",
    "| Tommy    |\n",
    "| Alex     |\n",
    "+----------+\n",
    "Explanation: \n",
    "All animals weighing more than 100 should be included in the results table.\n",
    "Tatiana's weight is 464, Jonathan's weight is 463, Tommy's weight is 349, and Alex's weight is 328.\n",
    "The results should be sorted in descending order of weight.\n",
    "\"\"\"\n",
    "\n",
    "# Example usage\n",
    "data = {\n",
    "    'name': ['Tatiana', 'Khaled', 'Alex', 'Jonathan', 'Stefan', 'Tommy'],\n",
    "    'species': ['Snake', 'Giraffe', 'Leopard', 'Monkey', 'Bear', 'Panda'],\n",
    "    'age': [98, 50, 6, 45, 100, 26],\n",
    "    'weight': [464, 41, 328, 463, 50, 349]\n",
    "}\n",
    "animals_df = pd.DataFrame(data)\n",
    "print(findHeavyAnimals(animals_df))"
   ]
  },
  {
   "cell_type": "code",
   "execution_count": null,
   "id": "107bfb71",
   "metadata": {},
   "outputs": [],
   "source": []
  }
 ],
 "metadata": {
  "kernelspec": {
   "display_name": "base",
   "language": "python",
   "name": "python3"
  },
  "language_info": {
   "codemirror_mode": {
    "name": "ipython",
    "version": 3
   },
   "file_extension": ".py",
   "mimetype": "text/x-python",
   "name": "python",
   "nbconvert_exporter": "python",
   "pygments_lexer": "ipython3",
   "version": "3.12.11"
  }
 },
 "nbformat": 4,
 "nbformat_minor": 5
}
