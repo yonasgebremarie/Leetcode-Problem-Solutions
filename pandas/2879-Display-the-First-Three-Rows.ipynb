{
 "cells": [
  {
   "cell_type": "code",
   "execution_count": 1,
   "id": "7dd58fcb",
   "metadata": {},
   "outputs": [],
   "source": [
    "import pandas as pd\n",
    "from typing import List\n",
    "\n",
    "def selectFirstRows(employees: pd.DataFrame) -> pd.DataFrame:\n",
    "    return employees.head(3)\n",
    "    "
   ]
  },
  {
   "cell_type": "code",
   "execution_count": 2,
   "id": "31ee146b",
   "metadata": {},
   "outputs": [
    {
     "name": "stdout",
     "output_type": "stream",
     "text": [
      "   employee_id employee_name department\n",
      "0            1         Alice         HR\n",
      "1            2           Bob    Finance\n",
      "2            3       Charlie         IT\n"
     ]
    }
   ],
   "source": [
    "# Example usage\n",
    "data = {\n",
    "    'employee_id': [1, 2, 3, 4, 5],\n",
    "    'employee_name': ['Alice', 'Bob', 'Charlie', 'David', 'Eva'],\n",
    "    'department': ['HR', 'Finance', 'IT', 'Marketing', 'Sales']\n",
    "}\n",
    "employees_df = pd.DataFrame(data)\n",
    "print(selectFirstRows(employees_df))"
   ]
  },
  {
   "cell_type": "code",
   "execution_count": null,
   "id": "adf150de",
   "metadata": {},
   "outputs": [],
   "source": []
  }
 ],
 "metadata": {
  "kernelspec": {
   "display_name": "base",
   "language": "python",
   "name": "python3"
  },
  "language_info": {
   "codemirror_mode": {
    "name": "ipython",
    "version": 3
   },
   "file_extension": ".py",
   "mimetype": "text/x-python",
   "name": "python",
   "nbconvert_exporter": "python",
   "pygments_lexer": "ipython3",
   "version": "3.12.11"
  }
 },
 "nbformat": 4,
 "nbformat_minor": 5
}
