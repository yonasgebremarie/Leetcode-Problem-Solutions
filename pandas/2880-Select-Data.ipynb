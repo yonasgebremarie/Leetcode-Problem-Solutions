{
 "cells": [
  {
   "cell_type": "code",
   "execution_count": 6,
   "id": "a021baf3",
   "metadata": {},
   "outputs": [],
   "source": [
    "import pandas as pd\n",
    "\n",
    "def selectData(students: pd.DataFrame) -> pd.DataFrame:\n",
    "    return students[students[\"student_id\"] == 101][[\"name\", \"age\"]]\n",
    "    "
   ]
  },
  {
   "cell_type": "code",
   "execution_count": 7,
   "id": "11b66733",
   "metadata": {},
   "outputs": [
    {
     "name": "stdout",
     "output_type": "stream",
     "text": [
      "    name  age\n",
      "0  Alice   20\n"
     ]
    }
   ],
   "source": [
    "# Example usage\n",
    "data = {\n",
    "    'student_id': [101, 102, 103],\n",
    "    'name': ['Alice', 'Bob', 'Charlie'],\n",
    "    'age': [20, 21, 22],\n",
    "    'grade': ['A', 'B', 'C']\n",
    "}\n",
    "students_df = pd.DataFrame(data)\n",
    "print(selectData(students_df))  # Output: DataFrame with Alice's name and age"
   ]
  },
  {
   "cell_type": "code",
   "execution_count": null,
   "id": "879df250",
   "metadata": {},
   "outputs": [],
   "source": []
  }
 ],
 "metadata": {
  "kernelspec": {
   "display_name": "base",
   "language": "python",
   "name": "python3"
  },
  "language_info": {
   "codemirror_mode": {
    "name": "ipython",
    "version": 3
   },
   "file_extension": ".py",
   "mimetype": "text/x-python",
   "name": "python",
   "nbconvert_exporter": "python",
   "pygments_lexer": "ipython3",
   "version": "3.12.11"
  }
 },
 "nbformat": 4,
 "nbformat_minor": 5
}
