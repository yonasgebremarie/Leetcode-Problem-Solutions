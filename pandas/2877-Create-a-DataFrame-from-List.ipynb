{
 "cells": [
  {
   "cell_type": "markdown",
   "id": "269bf0a5",
   "metadata": {},
   "source": [
    "# 🧮 Problem 2877 — Create a DataFrame from List\n",
    "\n",
    "**Difficulty:** Easy  \n",
    "**Tags:** 🏢 Companies | 💡 Hint | ✅ Solved\n",
    "\n",
    "---\n",
    "\n",
    "## Problem Description\n",
    "\n",
    "Write a solution to **create** a DataFrame from a 2D list called `student_data`.  \n",
    "This 2D list contains the IDs and ages of some students.\n",
    "\n",
    "The DataFrame should have two columns — `student_id` and `age` —  \n",
    "and be in the same order as the original 2D list.\n",
    "\n",
    "The result format is shown in the following example.\n",
    "\n",
    "---\n",
    "\n",
    "## Example 1\n",
    "\n",
    "**Input**\n",
    "```python\n",
    "student_data = [\n",
    "    [1, 15],\n",
    "    [2, 11],\n",
    "    [3, 11],\n",
    "    [4, 20]\n",
    "]\n",
    "```\n",
    "\n",
    "## Output\n",
    "\n",
    "+------------+-----+\n",
    "| student_id | age |\n",
    "+------------+-----+\n",
    "|     1      | 15  |\n",
    "|     2      | 11  |\n",
    "|     3      | 11  |\n",
    "|     4      | 20  |\n",
    "+------------+-----+\n"
   ]
  },
  {
   "cell_type": "code",
   "execution_count": 2,
   "id": "be71a850",
   "metadata": {},
   "outputs": [],
   "source": [
    "# solution\n",
    "\n",
    "import pandas as pd\n",
    "from typing import List\n",
    "\n",
    "def createDataframe(student_data: List[List[int]]) -> pd.DataFrame:\n",
    "    return pd.DataFrame(\n",
    "        student_data,\n",
    "        columns = ['student_id', 'age']\n",
    "    )\n",
    "    \n"
   ]
  },
  {
   "cell_type": "code",
   "execution_count": 3,
   "id": "81152304",
   "metadata": {},
   "outputs": [
    {
     "name": "stdout",
     "output_type": "stream",
     "text": [
      "   student_id  age\n",
      "0           1   20\n",
      "1           2   21\n",
      "2           3   19\n"
     ]
    }
   ],
   "source": [
    "# Example usage:\n",
    "data = [[1, 20], [2, 21], [3, 19]]\n",
    "df = createDataframe(data)\n",
    "print(df)"
   ]
  },
  {
   "cell_type": "code",
   "execution_count": null,
   "id": "f52c98a3",
   "metadata": {},
   "outputs": [],
   "source": []
  }
 ],
 "metadata": {
  "kernelspec": {
   "display_name": "base",
   "language": "python",
   "name": "python3"
  },
  "language_info": {
   "codemirror_mode": {
    "name": "ipython",
    "version": 3
   },
   "file_extension": ".py",
   "mimetype": "text/x-python",
   "name": "python",
   "nbconvert_exporter": "python",
   "pygments_lexer": "ipython3",
   "version": "3.12.11"
  }
 },
 "nbformat": 4,
 "nbformat_minor": 5
}
