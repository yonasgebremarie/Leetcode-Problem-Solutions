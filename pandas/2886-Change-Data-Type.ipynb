{
 "cells": [
  {
   "cell_type": "code",
   "execution_count": 1,
   "id": "c06ed876",
   "metadata": {},
   "outputs": [],
   "source": [
    "import pandas as pd\n",
    "\n",
    "def changeDatatype(students: pd.DataFrame) -> pd.DataFrame:\n",
    "    students[\"grade\"] = students[\"grade\"].astype(int)\n",
    "    return students"
   ]
  },
  {
   "cell_type": "code",
   "execution_count": 3,
   "id": "485c4899",
   "metadata": {},
   "outputs": [
    {
     "name": "stdout",
     "output_type": "stream",
     "text": [
      "   student_id     name  age  grade\n",
      "0         101    Alice   20     90\n",
      "1         102      Bob   21     85\n",
      "2         103  Charlie   22     88\n"
     ]
    }
   ],
   "source": [
    "## Example usage\n",
    "data = {\n",
    "    'student_id': [101, 102, 103],\n",
    "    'name': ['Alice', 'Bob', 'Charlie'],\n",
    "    'age': [20, 21, 22],\n",
    "    'grade': [90.5, 85.3, 88.5]\n",
    "}\n",
    "\n",
    "students_df = pd.DataFrame(data)\n",
    "print(changeDatatype(students_df))"
   ]
  },
  {
   "cell_type": "code",
   "execution_count": null,
   "id": "ae275a9b",
   "metadata": {},
   "outputs": [],
   "source": []
  }
 ],
 "metadata": {
  "kernelspec": {
   "display_name": "base",
   "language": "python",
   "name": "python3"
  },
  "language_info": {
   "codemirror_mode": {
    "name": "ipython",
    "version": 3
   },
   "file_extension": ".py",
   "mimetype": "text/x-python",
   "name": "python",
   "nbconvert_exporter": "python",
   "pygments_lexer": "ipython3",
   "version": "3.12.11"
  }
 },
 "nbformat": 4,
 "nbformat_minor": 5
}
