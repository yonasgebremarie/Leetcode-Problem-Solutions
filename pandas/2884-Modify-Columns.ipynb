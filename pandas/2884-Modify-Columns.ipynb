{
 "cells": [
  {
   "cell_type": "code",
   "execution_count": 1,
   "id": "a4416858",
   "metadata": {},
   "outputs": [],
   "source": [
    "import pandas as pd\n",
    "\n",
    "def modifySalaryColumn(employees: pd.DataFrame) -> pd.DataFrame:\n",
    "    employees[\"salary\"] = employees[\"salary\"] * 2\n",
    "    return employees\n",
    "    "
   ]
  },
  {
   "cell_type": "code",
   "execution_count": 2,
   "id": "352bbd32",
   "metadata": {},
   "outputs": [
    {
     "name": "stdout",
     "output_type": "stream",
     "text": [
      "   employee_id  salary\n",
      "0            1  100000\n",
      "1            2  120000\n",
      "2            3  110000\n",
      "3            4  140000\n",
      "4            5  130000\n"
     ]
    }
   ],
   "source": [
    "## Example usage\n",
    "data = {\n",
    "    'employee_id': [1, 2, 3, 4, 5],\n",
    "    'salary': [50000, 60000, 55000, 70000, 65000]\n",
    "}\n",
    "employees_df = pd.DataFrame(data)\n",
    "print(modifySalaryColumn(employees_df))"
   ]
  },
  {
   "cell_type": "code",
   "execution_count": null,
   "id": "575f241c",
   "metadata": {},
   "outputs": [],
   "source": []
  }
 ],
 "metadata": {
  "kernelspec": {
   "display_name": "base",
   "language": "python",
   "name": "python3"
  },
  "language_info": {
   "codemirror_mode": {
    "name": "ipython",
    "version": 3
   },
   "file_extension": ".py",
   "mimetype": "text/x-python",
   "name": "python",
   "nbconvert_exporter": "python",
   "pygments_lexer": "ipython3",
   "version": "3.12.11"
  }
 },
 "nbformat": 4,
 "nbformat_minor": 5
}
