{
 "cells": [
  {
   "cell_type": "code",
   "execution_count": 1,
   "id": "125eff8f",
   "metadata": {},
   "outputs": [],
   "source": [
    "import pandas as pd\n",
    "\n",
    "def concatenateTables(df1: pd.DataFrame, df2: pd.DataFrame) -> pd.DataFrame:\n",
    "    return pd.concat([df1, df2])"
   ]
  },
  {
   "cell_type": "code",
   "execution_count": 2,
   "id": "f6bd0a28",
   "metadata": {},
   "outputs": [
    {
     "name": "stdout",
     "output_type": "stream",
     "text": [
      "   id value\n",
      "0   1     A\n",
      "1   2     B\n",
      "2   3     C\n",
      "0   4     D\n",
      "1   5     E\n",
      "2   6     F\n"
     ]
    }
   ],
   "source": [
    "# Example usage\n",
    "df1 = pd.DataFrame({\n",
    "    'id': [1, 2, 3],\n",
    "    'value': ['A', 'B', 'C']\n",
    "})\n",
    "\n",
    "df2 = pd.DataFrame({\n",
    "    'id': [4, 5, 6],\n",
    "    'value': ['D', 'E', 'F']\n",
    "})\n",
    "\n",
    "print(concatenateTables(df1, df2))"
   ]
  },
  {
   "cell_type": "code",
   "execution_count": null,
   "id": "32ef92ad",
   "metadata": {},
   "outputs": [],
   "source": []
  }
 ],
 "metadata": {
  "kernelspec": {
   "display_name": "base",
   "language": "python",
   "name": "python3"
  },
  "language_info": {
   "codemirror_mode": {
    "name": "ipython",
    "version": 3
   },
   "file_extension": ".py",
   "mimetype": "text/x-python",
   "name": "python",
   "nbconvert_exporter": "python",
   "pygments_lexer": "ipython3",
   "version": "3.12.11"
  }
 },
 "nbformat": 4,
 "nbformat_minor": 5
}
